{
  "nbformat": 4,
  "nbformat_minor": 0,
  "metadata": {
    "colab": {
      "provenance": [],
      "authorship_tag": "ABX9TyPWinxBF7kk3SLQvlPPvG7i",
      "include_colab_link": true
    },
    "kernelspec": {
      "name": "python3",
      "display_name": "Python 3"
    },
    "language_info": {
      "name": "python"
    }
  },
  "cells": [
    {
      "cell_type": "markdown",
      "metadata": {
        "id": "view-in-github",
        "colab_type": "text"
      },
      "source": [
        "<a href=\"https://colab.research.google.com/github/supershao1/PythonA-Z/blob/main/NBA_2012.ipynb\" target=\"_parent\"><img src=\"https://colab.research.google.com/assets/colab-badge.svg\" alt=\"Open In Colab\"/></a>"
      ]
    },
    {
      "cell_type": "code",
      "execution_count": 1,
      "metadata": {
        "id": "ZFxmrKxYtnrm"
      },
      "outputs": [],
      "source": [
        "#Dear Student,\n",
        "#\n",
        "#Welcome to the world of Basketball Data!\n",
        "#I'm sure you will enjoy this section of the Python Programming course.\n",
        "#\n",
        "#Instructions for this dataset:\n",
        "# Simply copy ALL the lines in this script by pressing \n",
        "# CTRL+A on Windows or CMND+A on Mac and run the Jupyter cell\n",
        "# Once you have executed the commands the following objects\n",
        "# will be created:\n",
        "# Matrices:\n",
        "# - Salary\n",
        "# - Games\n",
        "# - MinutesPlayed\n",
        "# - FieldGoals\n",
        "# - FieldGoalAttempts\n",
        "# - Points\n",
        "# Lists:\n",
        "# - Players\n",
        "# - Seasons\n",
        "# Dictionaries:\n",
        "# - Sdict\n",
        "# - Pdict\n",
        "#We will understand these inside the course.\n",
        "#\n",
        "#Sincerely,\n",
        "#Kirill Eremenko\n",
        "#www.superdatascience.com\n",
        "\n",
        "#Copyright: These datasets were prepared using publicly available data.\n",
        "#           However, theses scripts are subject to Copyright Laws. \n",
        "#           If you wish to use these Python scripts outside of the Python Programming Course\n",
        "#           by Kirill Eremenko, you may do so by referencing www.superdatascience.com in your work.\n",
        "\n",
        "#Comments:\n",
        "#Seasons are labeled based on the first year in the season\n",
        "#E.g. the 2012-2013 season is preseneted as simply 2012\n",
        "\n",
        "#Notes and Corrections to the data:\n",
        "#Kevin Durant: 2006 - College Data Used\n",
        "#Kevin Durant: 2005 - Proxied With 2006 Data\n",
        "#Derrick Rose: 2012 - Did Not Play\n",
        "#Derrick Rose: 2007 - College Data Used\n",
        "#Derrick Rose: 2006 - Proxied With 2007 Data\n",
        "#Derrick Rose: 2005 - Proxied With 2007 Data\n",
        "\n",
        "#Import numpy\n",
        "import numpy as np\n",
        "\n",
        "#Seasons\n",
        "Seasons = [\"2005\",\"2006\",\"2007\",\"2008\",\"2009\",\"2010\",\"2011\",\"2012\",\"2013\",\"2014\"]\n",
        "Sdict = {\"2005\":0,\"2006\":1,\"2007\":2,\"2008\":3,\"2009\":4,\"2010\":5,\"2011\":6,\"2012\":7,\"2013\":8,\"2014\":9}\n",
        "\n",
        "#Players\n",
        "Players = [\"KobeBryant\",\"JoeJohnson\",\"LeBronJames\",\"CarmeloAnthony\",\"DwightHoward\",\"ChrisBosh\",\"ChrisPaul\",\"KevinDurant\",\"DerrickRose\",\"DwayneWade\"]\n",
        "Pdict = {\"KobeBryant\":0,\"JoeJohnson\":1,\"LeBronJames\":2,\"CarmeloAnthony\":3,\"DwightHoward\":4,\"ChrisBosh\":5,\"ChrisPaul\":6,\"KevinDurant\":7,\"DerrickRose\":8,\"DwayneWade\":9}\n",
        "\n",
        "#Salaries\n",
        "KobeBryant_Salary = [15946875,17718750,19490625,21262500,23034375,24806250,25244493,27849149,30453805,23500000]\n",
        "JoeJohnson_Salary = [12000000,12744189,13488377,14232567,14976754,16324500,18038573,19752645,21466718,23180790]\n",
        "LeBronJames_Salary = [4621800,5828090,13041250,14410581,15779912,14500000,16022500,17545000,19067500,20644400]\n",
        "CarmeloAnthony_Salary = [3713640,4694041,13041250,14410581,15779912,17149243,18518574,19450000,22407474,22458000]\n",
        "DwightHoward_Salary = [4493160,4806720,6061274,13758000,15202590,16647180,18091770,19536360,20513178,21436271]\n",
        "ChrisBosh_Salary = [3348000,4235220,12455000,14410581,15779912,14500000,16022500,17545000,19067500,20644400]\n",
        "ChrisPaul_Salary = [3144240,3380160,3615960,4574189,13520500,14940153,16359805,17779458,18668431,20068563]\n",
        "KevinDurant_Salary = [0,0,4171200,4484040,4796880,6053663,15506632,16669630,17832627,18995624]\n",
        "DerrickRose_Salary = [0,0,0,4822800,5184480,5546160,6993708,16402500,17632688,18862875]\n",
        "DwayneWade_Salary = [3031920,3841443,13041250,14410581,15779912,14200000,15691000,17182000,18673000,15000000]\n",
        "#Matrix\n",
        "Salary = np.array([KobeBryant_Salary, JoeJohnson_Salary, LeBronJames_Salary, CarmeloAnthony_Salary, DwightHoward_Salary, ChrisBosh_Salary, ChrisPaul_Salary, KevinDurant_Salary, DerrickRose_Salary, DwayneWade_Salary])\n",
        "\n",
        "#Games \n",
        "KobeBryant_G = [80,77,82,82,73,82,58,78,6,35]\n",
        "JoeJohnson_G = [82,57,82,79,76,72,60,72,79,80]\n",
        "LeBronJames_G = [79,78,75,81,76,79,62,76,77,69]\n",
        "CarmeloAnthony_G = [80,65,77,66,69,77,55,67,77,40]\n",
        "DwightHoward_G = [82,82,82,79,82,78,54,76,71,41]\n",
        "ChrisBosh_G = [70,69,67,77,70,77,57,74,79,44]\n",
        "ChrisPaul_G = [78,64,80,78,45,80,60,70,62,82]\n",
        "KevinDurant_G = [35,35,80,74,82,78,66,81,81,27]\n",
        "DerrickRose_G = [40,40,40,81,78,81,39,0,10,51]\n",
        "DwayneWade_G = [75,51,51,79,77,76,49,69,54,62]\n",
        "#Matrix\n",
        "Games = np.array([KobeBryant_G, JoeJohnson_G, LeBronJames_G, CarmeloAnthony_G, DwightHoward_G, ChrisBosh_G, ChrisPaul_G, KevinDurant_G, DerrickRose_G, DwayneWade_G])\n",
        "\n",
        "#Minutes Played\n",
        "KobeBryant_MP = [3277,3140,3192,2960,2835,2779,2232,3013,177,1207]\n",
        "JoeJohnson_MP = [3340,2359,3343,3124,2886,2554,2127,2642,2575,2791]\n",
        "LeBronJames_MP = [3361,3190,3027,3054,2966,3063,2326,2877,2902,2493]\n",
        "CarmeloAnthony_MP = [2941,2486,2806,2277,2634,2751,1876,2482,2982,1428]\n",
        "DwightHoward_MP = [3021,3023,3088,2821,2843,2935,2070,2722,2396,1223]\n",
        "ChrisBosh_MP = [2751,2658,2425,2928,2526,2795,2007,2454,2531,1556]\n",
        "ChrisPaul_MP = [2808,2353,3006,3002,1712,2880,2181,2335,2171,2857]\n",
        "KevinDurant_MP = [1255,1255,2768,2885,3239,3038,2546,3119,3122,913]\n",
        "DerrickRose_MP = [1168,1168,1168,3000,2871,3026,1375,0,311,1530]\n",
        "DwayneWade_MP = [2892,1931,1954,3048,2792,2823,1625,2391,1775,1971]\n",
        "#Matrix\n",
        "MinutesPlayed = np.array([KobeBryant_MP, JoeJohnson_MP, LeBronJames_MP, CarmeloAnthony_MP, DwightHoward_MP, ChrisBosh_MP, ChrisPaul_MP, KevinDurant_MP, DerrickRose_MP, DwayneWade_MP])\n",
        "\n",
        "#Field Goals\n",
        "KobeBryant_FG = [978,813,775,800,716,740,574,738,31,266]\n",
        "JoeJohnson_FG = [632,536,647,620,635,514,423,445,462,446]\n",
        "LeBronJames_FG = [875,772,794,789,768,758,621,765,767,624]\n",
        "CarmeloAnthony_FG = [756,691,728,535,688,684,441,669,743,358]\n",
        "DwightHoward_FG = [468,526,583,560,510,619,416,470,473,251]\n",
        "ChrisBosh_FG = [549,543,507,615,600,524,393,485,492,343]\n",
        "ChrisPaul_FG = [407,381,630,631,314,430,425,412,406,568]\n",
        "KevinDurant_FG = [306,306,587,661,794,711,643,731,849,238]\n",
        "DerrickRose_FG = [208,208,208,574,672,711,302,0,58,338]\n",
        "DwayneWade_FG = [699,472,439,854,719,692,416,569,415,509]\n",
        "#Matrix\n",
        "FieldGoals  = np.array([KobeBryant_FG, JoeJohnson_FG, LeBronJames_FG, CarmeloAnthony_FG, DwightHoward_FG, ChrisBosh_FG, ChrisPaul_FG, KevinDurant_FG, DerrickRose_FG, DwayneWade_FG])\n",
        "\n",
        "#Field Goal Attempts\n",
        "KobeBryant_FGA = [2173,1757,1690,1712,1569,1639,1336,1595,73,713]\n",
        "JoeJohnson_FGA = [1395,1139,1497,1420,1386,1161,931,1052,1018,1025]\n",
        "LeBronJames_FGA = [1823,1621,1642,1613,1528,1485,1169,1354,1353,1279]\n",
        "CarmeloAnthony_FGA = [1572,1453,1481,1207,1502,1503,1025,1489,1643,806]\n",
        "DwightHoward_FGA = [881,873,974,979,834,1044,726,813,800,423]\n",
        "ChrisBosh_FGA = [1087,1094,1027,1263,1158,1056,807,907,953,745]\n",
        "ChrisPaul_FGA = [947,871,1291,1255,637,928,890,856,870,1170]\n",
        "KevinDurant_FGA = [647,647,1366,1390,1668,1538,1297,1433,1688,467]\n",
        "DerrickRose_FGA = [436,436,436,1208,1373,1597,695,0,164,835]\n",
        "DwayneWade_FGA = [1413,962,937,1739,1511,1384,837,1093,761,1084]\n",
        "#Matrix\n",
        "FieldGoalAttempts = np.array([KobeBryant_FGA, JoeJohnson_FGA, LeBronJames_FGA, CarmeloAnthony_FGA, DwightHoward_FGA, ChrisBosh_FGA, ChrisPaul_FGA, KevinDurant_FGA, DerrickRose_FGA, DwayneWade_FGA])\n",
        "\n",
        "#Points\n",
        "KobeBryant_PTS = [2832,2430,2323,2201,1970,2078,1616,2133,83,782]\n",
        "JoeJohnson_PTS = [1653,1426,1779,1688,1619,1312,1129,1170,1245,1154]\n",
        "LeBronJames_PTS = [2478,2132,2250,2304,2258,2111,1683,2036,2089,1743]\n",
        "CarmeloAnthony_PTS = [2122,1881,1978,1504,1943,1970,1245,1920,2112,966]\n",
        "DwightHoward_PTS = [1292,1443,1695,1624,1503,1784,1113,1296,1297,646]\n",
        "ChrisBosh_PTS = [1572,1561,1496,1746,1678,1438,1025,1232,1281,928]\n",
        "ChrisPaul_PTS = [1258,1104,1684,1781,841,1268,1189,1186,1185,1564]\n",
        "KevinDurant_PTS = [903,903,1624,1871,2472,2161,1850,2280,2593,686]\n",
        "DerrickRose_PTS = [597,597,597,1361,1619,2026,852,0,159,904]\n",
        "DwayneWade_PTS = [2040,1397,1254,2386,2045,1941,1082,1463,1028,1331]\n",
        "#Matrix\n",
        "Points = np.array([KobeBryant_PTS, JoeJohnson_PTS, LeBronJames_PTS, CarmeloAnthony_PTS, DwightHoward_PTS, ChrisBosh_PTS, ChrisPaul_PTS, KevinDurant_PTS, DerrickRose_PTS, DwayneWade_PTS])             \n",
        "                  \n"
      ]
    },
    {
      "cell_type": "code",
      "source": [
        "Games"
      ],
      "metadata": {
        "colab": {
          "base_uri": "https://localhost:8080/"
        },
        "id": "MG5gBEM5Xm-V",
        "outputId": "8bd49d82-3798-40c6-bd5f-825e6d3a5e26"
      },
      "execution_count": 2,
      "outputs": [
        {
          "output_type": "execute_result",
          "data": {
            "text/plain": [
              "array([[80, 77, 82, 82, 73, 82, 58, 78,  6, 35],\n",
              "       [82, 57, 82, 79, 76, 72, 60, 72, 79, 80],\n",
              "       [79, 78, 75, 81, 76, 79, 62, 76, 77, 69],\n",
              "       [80, 65, 77, 66, 69, 77, 55, 67, 77, 40],\n",
              "       [82, 82, 82, 79, 82, 78, 54, 76, 71, 41],\n",
              "       [70, 69, 67, 77, 70, 77, 57, 74, 79, 44],\n",
              "       [78, 64, 80, 78, 45, 80, 60, 70, 62, 82],\n",
              "       [35, 35, 80, 74, 82, 78, 66, 81, 81, 27],\n",
              "       [40, 40, 40, 81, 78, 81, 39,  0, 10, 51],\n",
              "       [75, 51, 51, 79, 77, 76, 49, 69, 54, 62]])"
            ]
          },
          "metadata": {},
          "execution_count": 2
        }
      ]
    },
    {
      "cell_type": "code",
      "source": [
        "Pdict['KobeBryant']"
      ],
      "metadata": {
        "colab": {
          "base_uri": "https://localhost:8080/"
        },
        "id": "Z7gDqHGMX6nC",
        "outputId": "1f7bb833-5487-40e5-ff82-f94cc4309d23"
      },
      "execution_count": 3,
      "outputs": [
        {
          "output_type": "execute_result",
          "data": {
            "text/plain": [
              "0"
            ]
          },
          "metadata": {},
          "execution_count": 3
        }
      ]
    },
    {
      "cell_type": "code",
      "source": [
        "Games[Pdict['KobeBryant']]"
      ],
      "metadata": {
        "colab": {
          "base_uri": "https://localhost:8080/"
        },
        "id": "OHUbf6H_YBkk",
        "outputId": "65e35106-8f6d-4eef-8852-38adf22b6341"
      },
      "execution_count": 4,
      "outputs": [
        {
          "output_type": "execute_result",
          "data": {
            "text/plain": [
              "array([80, 77, 82, 82, 73, 82, 58, 78,  6, 35])"
            ]
          },
          "metadata": {},
          "execution_count": 4
        }
      ]
    },
    {
      "cell_type": "code",
      "source": [
        "Games[Pdict['KobeBryant']][Sdict['2012']]"
      ],
      "metadata": {
        "colab": {
          "base_uri": "https://localhost:8080/"
        },
        "id": "27AKemKnYJ_c",
        "outputId": "391cd662-70b2-40f0-ce80-c3529144be8b"
      },
      "execution_count": 5,
      "outputs": [
        {
          "output_type": "execute_result",
          "data": {
            "text/plain": [
              "78"
            ]
          },
          "metadata": {},
          "execution_count": 5
        }
      ]
    },
    {
      "cell_type": "code",
      "source": [
        "FieldGoals"
      ],
      "metadata": {
        "colab": {
          "base_uri": "https://localhost:8080/"
        },
        "id": "8byOHtJJkXir",
        "outputId": "594bf69f-b7d1-4cf5-dff3-e556b329928f"
      },
      "execution_count": 6,
      "outputs": [
        {
          "output_type": "execute_result",
          "data": {
            "text/plain": [
              "array([[978, 813, 775, 800, 716, 740, 574, 738,  31, 266],\n",
              "       [632, 536, 647, 620, 635, 514, 423, 445, 462, 446],\n",
              "       [875, 772, 794, 789, 768, 758, 621, 765, 767, 624],\n",
              "       [756, 691, 728, 535, 688, 684, 441, 669, 743, 358],\n",
              "       [468, 526, 583, 560, 510, 619, 416, 470, 473, 251],\n",
              "       [549, 543, 507, 615, 600, 524, 393, 485, 492, 343],\n",
              "       [407, 381, 630, 631, 314, 430, 425, 412, 406, 568],\n",
              "       [306, 306, 587, 661, 794, 711, 643, 731, 849, 238],\n",
              "       [208, 208, 208, 574, 672, 711, 302,   0,  58, 338],\n",
              "       [699, 472, 439, 854, 719, 692, 416, 569, 415, 509]])"
            ]
          },
          "metadata": {},
          "execution_count": 6
        }
      ]
    },
    {
      "cell_type": "code",
      "source": [
        "import warnings\n",
        "warnings.filterwarnings('ignore')\n",
        "\n",
        "FieldGoalspPerGame = np.matrix.round(FieldGoals / Games)\n",
        "\n",
        "FieldGoalspPerGame"
      ],
      "metadata": {
        "colab": {
          "base_uri": "https://localhost:8080/"
        },
        "id": "roUkyKSYkav7",
        "outputId": "16ae7c5e-b720-4113-a1d1-3a7ea8efe308"
      },
      "execution_count": 7,
      "outputs": [
        {
          "output_type": "execute_result",
          "data": {
            "text/plain": [
              "array([[12., 11.,  9., 10., 10.,  9., 10.,  9.,  5.,  8.],\n",
              "       [ 8.,  9.,  8.,  8.,  8.,  7.,  7.,  6.,  6.,  6.],\n",
              "       [11., 10., 11., 10., 10., 10., 10., 10., 10.,  9.],\n",
              "       [ 9., 11.,  9.,  8., 10.,  9.,  8., 10., 10.,  9.],\n",
              "       [ 6.,  6.,  7.,  7.,  6.,  8.,  8.,  6.,  7.,  6.],\n",
              "       [ 8.,  8.,  8.,  8.,  9.,  7.,  7.,  7.,  6.,  8.],\n",
              "       [ 5.,  6.,  8.,  8.,  7.,  5.,  7.,  6.,  7.,  7.],\n",
              "       [ 9.,  9.,  7.,  9., 10.,  9., 10.,  9., 10.,  9.],\n",
              "       [ 5.,  5.,  5.,  7.,  9.,  9.,  8., nan,  6.,  7.],\n",
              "       [ 9.,  9.,  9., 11.,  9.,  9.,  8.,  8.,  8.,  8.]])"
            ]
          },
          "metadata": {},
          "execution_count": 7
        }
      ]
    },
    {
      "cell_type": "code",
      "source": [
        "FieldGoalspPerGame[Pdict[\"LeBronJames\"]][Sdict['2014']]"
      ],
      "metadata": {
        "colab": {
          "base_uri": "https://localhost:8080/"
        },
        "id": "z22im-4Mlbne",
        "outputId": "c1c5f4aa-d9a6-4e3e-a569-9522b6bcbe1e"
      },
      "execution_count": 8,
      "outputs": [
        {
          "output_type": "execute_result",
          "data": {
            "text/plain": [
              "9.0"
            ]
          },
          "metadata": {},
          "execution_count": 8
        }
      ]
    },
    {
      "cell_type": "code",
      "source": [
        "MinutesPlayed"
      ],
      "metadata": {
        "colab": {
          "base_uri": "https://localhost:8080/"
        },
        "id": "R27poj5prLUF",
        "outputId": "66e3060e-a049-4e6f-dd14-7b81c6be27df"
      },
      "execution_count": 9,
      "outputs": [
        {
          "output_type": "execute_result",
          "data": {
            "text/plain": [
              "array([[3277, 3140, 3192, 2960, 2835, 2779, 2232, 3013,  177, 1207],\n",
              "       [3340, 2359, 3343, 3124, 2886, 2554, 2127, 2642, 2575, 2791],\n",
              "       [3361, 3190, 3027, 3054, 2966, 3063, 2326, 2877, 2902, 2493],\n",
              "       [2941, 2486, 2806, 2277, 2634, 2751, 1876, 2482, 2982, 1428],\n",
              "       [3021, 3023, 3088, 2821, 2843, 2935, 2070, 2722, 2396, 1223],\n",
              "       [2751, 2658, 2425, 2928, 2526, 2795, 2007, 2454, 2531, 1556],\n",
              "       [2808, 2353, 3006, 3002, 1712, 2880, 2181, 2335, 2171, 2857],\n",
              "       [1255, 1255, 2768, 2885, 3239, 3038, 2546, 3119, 3122,  913],\n",
              "       [1168, 1168, 1168, 3000, 2871, 3026, 1375,    0,  311, 1530],\n",
              "       [2892, 1931, 1954, 3048, 2792, 2823, 1625, 2391, 1775, 1971]])"
            ]
          },
          "metadata": {},
          "execution_count": 9
        }
      ]
    },
    {
      "cell_type": "code",
      "source": [
        "MinPerGame = np.matrix.round(MinutesPlayed / Games)\n",
        "MinPerGame"
      ],
      "metadata": {
        "colab": {
          "base_uri": "https://localhost:8080/"
        },
        "id": "RdhwDK-YrVHO",
        "outputId": "e34a3048-3225-4491-de4b-1a9f813b6c3b"
      },
      "execution_count": 10,
      "outputs": [
        {
          "output_type": "execute_result",
          "data": {
            "text/plain": [
              "array([[41., 41., 39., 36., 39., 34., 38., 39., 30., 34.],\n",
              "       [41., 41., 41., 40., 38., 35., 35., 37., 33., 35.],\n",
              "       [43., 41., 40., 38., 39., 39., 38., 38., 38., 36.],\n",
              "       [37., 38., 36., 34., 38., 36., 34., 37., 39., 36.],\n",
              "       [37., 37., 38., 36., 35., 38., 38., 36., 34., 30.],\n",
              "       [39., 39., 36., 38., 36., 36., 35., 33., 32., 35.],\n",
              "       [36., 37., 38., 38., 38., 36., 36., 33., 35., 35.],\n",
              "       [36., 36., 35., 39., 40., 39., 39., 39., 39., 34.],\n",
              "       [29., 29., 29., 37., 37., 37., 35., nan, 31., 30.],\n",
              "       [39., 38., 38., 39., 36., 37., 33., 35., 33., 32.]])"
            ]
          },
          "metadata": {},
          "execution_count": 10
        }
      ]
    },
    {
      "cell_type": "code",
      "source": [
        "Points"
      ],
      "metadata": {
        "colab": {
          "base_uri": "https://localhost:8080/"
        },
        "id": "INFJ0TP7reM_",
        "outputId": "4eb7800f-d1c4-4cce-996c-d2306956cd58"
      },
      "execution_count": 11,
      "outputs": [
        {
          "output_type": "execute_result",
          "data": {
            "text/plain": [
              "array([[2832, 2430, 2323, 2201, 1970, 2078, 1616, 2133,   83,  782],\n",
              "       [1653, 1426, 1779, 1688, 1619, 1312, 1129, 1170, 1245, 1154],\n",
              "       [2478, 2132, 2250, 2304, 2258, 2111, 1683, 2036, 2089, 1743],\n",
              "       [2122, 1881, 1978, 1504, 1943, 1970, 1245, 1920, 2112,  966],\n",
              "       [1292, 1443, 1695, 1624, 1503, 1784, 1113, 1296, 1297,  646],\n",
              "       [1572, 1561, 1496, 1746, 1678, 1438, 1025, 1232, 1281,  928],\n",
              "       [1258, 1104, 1684, 1781,  841, 1268, 1189, 1186, 1185, 1564],\n",
              "       [ 903,  903, 1624, 1871, 2472, 2161, 1850, 2280, 2593,  686],\n",
              "       [ 597,  597,  597, 1361, 1619, 2026,  852,    0,  159,  904],\n",
              "       [2040, 1397, 1254, 2386, 2045, 1941, 1082, 1463, 1028, 1331]])"
            ]
          },
          "metadata": {},
          "execution_count": 11
        }
      ]
    },
    {
      "cell_type": "code",
      "source": [
        "PtsPerGame = np.matrix.round(Points / Games)\n",
        "PtsPerGame"
      ],
      "metadata": {
        "colab": {
          "base_uri": "https://localhost:8080/"
        },
        "id": "Pp0ELgCdrlSP",
        "outputId": "fd4d6108-672a-4a40-8f61-e6356ad26021"
      },
      "execution_count": 12,
      "outputs": [
        {
          "output_type": "execute_result",
          "data": {
            "text/plain": [
              "array([[35., 32., 28., 27., 27., 25., 28., 27., 14., 22.],\n",
              "       [20., 25., 22., 21., 21., 18., 19., 16., 16., 14.],\n",
              "       [31., 27., 30., 28., 30., 27., 27., 27., 27., 25.],\n",
              "       [27., 29., 26., 23., 28., 26., 23., 29., 27., 24.],\n",
              "       [16., 18., 21., 21., 18., 23., 21., 17., 18., 16.],\n",
              "       [22., 23., 22., 23., 24., 19., 18., 17., 16., 21.],\n",
              "       [16., 17., 21., 23., 19., 16., 20., 17., 19., 19.],\n",
              "       [26., 26., 20., 25., 30., 28., 28., 28., 32., 25.],\n",
              "       [15., 15., 15., 17., 21., 25., 22., nan, 16., 18.],\n",
              "       [27., 27., 25., 30., 27., 26., 22., 21., 19., 21.]])"
            ]
          },
          "metadata": {},
          "execution_count": 12
        }
      ]
    },
    {
      "cell_type": "code",
      "source": [
        "PtsPerGame[Pdict[\"LeBronJames\"]]"
      ],
      "metadata": {
        "colab": {
          "base_uri": "https://localhost:8080/"
        },
        "id": "01CGBuQjteog",
        "outputId": "8111a4a8-8e42-4bf8-a559-66fb21aa8bf5"
      },
      "execution_count": 13,
      "outputs": [
        {
          "output_type": "execute_result",
          "data": {
            "text/plain": [
              "array([31., 27., 30., 28., 30., 27., 27., 27., 27., 25.])"
            ]
          },
          "metadata": {},
          "execution_count": 13
        }
      ]
    },
    {
      "cell_type": "code",
      "source": [
        "PtsPerGame[Pdict[\"LeBronJames\"]][Sdict[\"2014\"]]"
      ],
      "metadata": {
        "colab": {
          "base_uri": "https://localhost:8080/"
        },
        "id": "Z7QW8IBAtuzB",
        "outputId": "e114ffa1-928b-40d7-d4d0-04d1bc22c5f8"
      },
      "execution_count": 14,
      "outputs": [
        {
          "output_type": "execute_result",
          "data": {
            "text/plain": [
              "25.0"
            ]
          },
          "metadata": {},
          "execution_count": 14
        }
      ]
    },
    {
      "cell_type": "code",
      "source": [
        "np.average(PtsPerGame[Pdict[\"LeBronJames\"]])"
      ],
      "metadata": {
        "colab": {
          "base_uri": "https://localhost:8080/"
        },
        "id": "0d9TNuVstxZb",
        "outputId": "a521ab33-2498-4c9e-f88a-c1e5bb1298b0"
      },
      "execution_count": 15,
      "outputs": [
        {
          "output_type": "execute_result",
          "data": {
            "text/plain": [
              "27.9"
            ]
          },
          "metadata": {},
          "execution_count": 15
        }
      ]
    },
    {
      "cell_type": "code",
      "source": [
        "FieldGoalsPerAttemp = np.matrix.round(FieldGoals / FieldGoalAttempts, 3)\n",
        "FieldGoalsPerAttemp"
      ],
      "metadata": {
        "colab": {
          "base_uri": "https://localhost:8080/"
        },
        "id": "xzUQTGm1uWcG",
        "outputId": "88796d80-8234-49fb-b6e6-f3648506606c"
      },
      "execution_count": 16,
      "outputs": [
        {
          "output_type": "execute_result",
          "data": {
            "text/plain": [
              "array([[0.45 , 0.463, 0.459, 0.467, 0.456, 0.451, 0.43 , 0.463, 0.425,\n",
              "        0.373],\n",
              "       [0.453, 0.471, 0.432, 0.437, 0.458, 0.443, 0.454, 0.423, 0.454,\n",
              "        0.435],\n",
              "       [0.48 , 0.476, 0.484, 0.489, 0.503, 0.51 , 0.531, 0.565, 0.567,\n",
              "        0.488],\n",
              "       [0.481, 0.476, 0.492, 0.443, 0.458, 0.455, 0.43 , 0.449, 0.452,\n",
              "        0.444],\n",
              "       [0.531, 0.603, 0.599, 0.572, 0.612, 0.593, 0.573, 0.578, 0.591,\n",
              "        0.593],\n",
              "       [0.505, 0.496, 0.494, 0.487, 0.518, 0.496, 0.487, 0.535, 0.516,\n",
              "        0.46 ],\n",
              "       [0.43 , 0.437, 0.488, 0.503, 0.493, 0.463, 0.478, 0.481, 0.467,\n",
              "        0.485],\n",
              "       [0.473, 0.473, 0.43 , 0.476, 0.476, 0.462, 0.496, 0.51 , 0.503,\n",
              "        0.51 ],\n",
              "       [0.477, 0.477, 0.477, 0.475, 0.489, 0.445, 0.435,   nan, 0.354,\n",
              "        0.405],\n",
              "       [0.495, 0.491, 0.469, 0.491, 0.476, 0.5  , 0.497, 0.521, 0.545,\n",
              "        0.47 ]])"
            ]
          },
          "metadata": {},
          "execution_count": 16
        }
      ]
    },
    {
      "cell_type": "code",
      "source": [
        "FieldGoalsPerAttemp[Pdict[\"LeBronJames\"]]"
      ],
      "metadata": {
        "colab": {
          "base_uri": "https://localhost:8080/"
        },
        "id": "Sft-Yg-Ey7OI",
        "outputId": "01fee29d-1efe-436f-e187-d7019306f3a9"
      },
      "execution_count": 17,
      "outputs": [
        {
          "output_type": "execute_result",
          "data": {
            "text/plain": [
              "array([0.48 , 0.476, 0.484, 0.489, 0.503, 0.51 , 0.531, 0.565, 0.567,\n",
              "       0.488])"
            ]
          },
          "metadata": {},
          "execution_count": 17
        }
      ]
    },
    {
      "cell_type": "code",
      "source": [
        "FieldGoalsPerAttempPct = FieldGoalsPerAttemp *100\n",
        "FieldGoalsPerAttempPct"
      ],
      "metadata": {
        "id": "F53-8MP-RhZN",
        "outputId": "6a7f08d9-dc5f-48d8-beae-7a3a21181bdc",
        "colab": {
          "base_uri": "https://localhost:8080/"
        }
      },
      "execution_count": 19,
      "outputs": [
        {
          "output_type": "execute_result",
          "data": {
            "text/plain": [
              "array([[45. , 46.3, 45.9, 46.7, 45.6, 45.1, 43. , 46.3, 42.5, 37.3],\n",
              "       [45.3, 47.1, 43.2, 43.7, 45.8, 44.3, 45.4, 42.3, 45.4, 43.5],\n",
              "       [48. , 47.6, 48.4, 48.9, 50.3, 51. , 53.1, 56.5, 56.7, 48.8],\n",
              "       [48.1, 47.6, 49.2, 44.3, 45.8, 45.5, 43. , 44.9, 45.2, 44.4],\n",
              "       [53.1, 60.3, 59.9, 57.2, 61.2, 59.3, 57.3, 57.8, 59.1, 59.3],\n",
              "       [50.5, 49.6, 49.4, 48.7, 51.8, 49.6, 48.7, 53.5, 51.6, 46. ],\n",
              "       [43. , 43.7, 48.8, 50.3, 49.3, 46.3, 47.8, 48.1, 46.7, 48.5],\n",
              "       [47.3, 47.3, 43. , 47.6, 47.6, 46.2, 49.6, 51. , 50.3, 51. ],\n",
              "       [47.7, 47.7, 47.7, 47.5, 48.9, 44.5, 43.5,  nan, 35.4, 40.5],\n",
              "       [49.5, 49.1, 46.9, 49.1, 47.6, 50. , 49.7, 52.1, 54.5, 47. ]])"
            ]
          },
          "metadata": {},
          "execution_count": 19
        }
      ]
    },
    {
      "cell_type": "code",
      "source": [
        "import numpy as np\n",
        "import matplotlib.pyplot as plt"
      ],
      "metadata": {
        "id": "VoJn7C_mRygM"
      },
      "execution_count": 20,
      "outputs": []
    },
    {
      "cell_type": "code",
      "source": [
        "%matplotlib inline\n",
        "plt.rcParams['figure.figsize'] = 8,4"
      ],
      "metadata": {
        "id": "zUn0puB9Slm3"
      },
      "execution_count": 24,
      "outputs": []
    },
    {
      "cell_type": "code",
      "source": [
        "plt.plot(Salary[0],c='Black', ls='--', marker='s',ms=7)\n",
        "plt.show()"
      ],
      "metadata": {
        "id": "--gkywJZR34X",
        "outputId": "ab4d918e-5481-417a-828c-df33d6100a7e",
        "colab": {
          "base_uri": "https://localhost:8080/",
          "height": 383
        }
      },
      "execution_count": 25,
      "outputs": [
        {
          "output_type": "display_data",
          "data": {
            "text/plain": [
              "<Figure size 800x400 with 1 Axes>"
            ],
            "image/png": "[encoded data removed]"
          },
          "metadata": {}
        }
      ]
    },
    {
      "cell_type": "code",
      "source": [
        "plt.plot(Salary[0],c='Black', ls='--', marker='s',ms=7, label=Players[0])\n",
        "plt.xticks(list(range(0,10)), Seasons, rotation='vertical')\n",
        "plt.show()"
      ],
      "metadata": {
        "id": "fWsvplWFSz7J",
        "outputId": "edf5243b-efeb-4c92-d91e-f3403dbe2510",
        "colab": {
          "base_uri": "https://localhost:8080/",
          "height": 405
        }
      },
      "execution_count": 31,
      "outputs": [
        {
          "output_type": "display_data",
          "data": {
            "text/plain": [
              "<Figure size 800x400 with 1 Axes>"
            ],
            "image/png": "[encoded data removed]"
          },
          "metadata": {}
        }
      ]
    },
    {
      "cell_type": "code",
      "source": [
        "list(range(0,10))"
      ],
      "metadata": {
        "id": "r685q_f6SRv-",
        "outputId": "1dee36cd-4001-445b-ee39-b830cfeeb2bd",
        "colab": {
          "base_uri": "https://localhost:8080/"
        }
      },
      "execution_count": 27,
      "outputs": [
        {
          "output_type": "execute_result",
          "data": {
            "text/plain": [
              "[0, 1, 2, 3, 4, 5, 6, 7, 8, 9]"
            ]
          },
          "metadata": {},
          "execution_count": 27
        }
      ]
    },
    {
      "cell_type": "code",
      "source": [
        "plt.plot(Salary[0],c='Black', ls='--', marker='s',ms=7, label=Players[0])\n",
        "plt.plot(Salary[1],c='Red', ls='--', marker='o',ms=7, label=Players[1])\n",
        "plt.xticks(list(range(0,10)), Seasons, rotation='vertical')\n",
        "plt.show()"
      ],
      "metadata": {
        "id": "0R9cZLH4quF4",
        "outputId": "1e3df460-f78f-4d30-e84e-0cbd8c3dd770",
        "colab": {
          "base_uri": "https://localhost:8080/",
          "height": 405
        }
      },
      "execution_count": 32,
      "outputs": [
        {
          "output_type": "display_data",
          "data": {
            "text/plain": [
              "<Figure size 800x400 with 1 Axes>"
            ],
            "image/png": "[encoded data removed]"
          },
          "metadata": {}
        }
      ]
    }
  ]
}