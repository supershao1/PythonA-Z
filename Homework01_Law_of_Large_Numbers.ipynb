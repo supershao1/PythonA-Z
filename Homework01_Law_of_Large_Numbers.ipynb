{
  "nbformat": 4,
  "nbformat_minor": 0,
  "metadata": {
    "colab": {
      "provenance": [],
      "authorship_tag": "ABX9TyOlD1NF1Ha3CbB7WFh2LAOS",
      "include_colab_link": true
    },
    "kernelspec": {
      "name": "python3",
      "display_name": "Python 3"
    },
    "language_info": {
      "name": "python"
    }
  },
  "cells": [
    {
      "cell_type": "markdown",
      "metadata": {
        "id": "view-in-github",
        "colab_type": "text"
      },
      "source": [
        "<a href=\"https://colab.research.google.com/github/supershao1/PythonA-Z/blob/main/Homework01_Law_of_Large_Numbers.ipynb\" target=\"_parent\"><img src=\"https://colab.research.google.com/assets/colab-badge.svg\" alt=\"Open In Colab\"/></a>"
      ]
    },
    {
      "cell_type": "markdown",
      "source": [
        "#Homework 01: Law of Large Numbers"
      ],
      "metadata": {
        "id": "xi_STm-QgqQi"
      }
    },
    {
      "cell_type": "code",
      "source": [
        "import numpy as np\n",
        "from numpy.random import randn"
      ],
      "metadata": {
        "id": "-lgbxNl0gvjd"
      },
      "execution_count": 1,
      "outputs": []
    },
    {
      "cell_type": "code",
      "source": [
        "#Specify sample size N\n",
        "N = 100000\n",
        "#Reset counter\n",
        "counter = 0\n",
        "#Looping all the samples to find the numbers within (-1,1)\n",
        "for i in randn(N):\n",
        "  if -1<i<1:\n",
        "    counter += 1\n",
        "hit_rate = counter / N\n",
        "print(hit_rate)"
      ],
      "metadata": {
        "id": "zFzO2W0pOLlk",
        "colab": {
          "base_uri": "https://localhost:8080/"
        },
        "outputId": "d27c36e0-0623-4def-c7e0-b26fe6341550"
      },
      "execution_count": 2,
      "outputs": [
        {
          "output_type": "stream",
          "name": "stdout",
          "text": [
            "0.68297\n"
          ]
        }
      ]
    }
  ]
}