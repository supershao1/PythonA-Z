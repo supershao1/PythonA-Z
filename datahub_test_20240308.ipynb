{
 "cells": [
  {
   "cell_type": "code",
   "execution_count": 1,
   "metadata": {},
   "outputs": [
    {
     "ename": "NameError",
     "evalue": "name 'strsplit' is not defined",
     "output_type": "error",
     "traceback": [
      "\u001b[0;31m---------------------------------------------------------------------------\u001b[0m",
      "\u001b[0;31mNameError\u001b[0m                                 Traceback (most recent call last)",
      "Cell \u001b[0;32mIn[1], line 29\u001b[0m\n\u001b[1;32m     27\u001b[0m \u001b[38;5;66;03m# Example usage\u001b[39;00m\n\u001b[1;32m     28\u001b[0m labels \u001b[38;5;241m=\u001b[39m \u001b[38;5;124m\"\u001b[39m\u001b[38;5;124mlb:=\u001b[39m\u001b[38;5;130;01m\\\"\u001b[39;00m\u001b[38;5;124m0::User message box;;1::Définition boîte message;;2::\u001b[39m\u001b[38;5;130;01m\\\"\u001b[39;00m\u001b[38;5;124m;\u001b[39m\u001b[38;5;124m\"\u001b[39m\n\u001b[0;32m---> 29\u001b[0m english_label \u001b[38;5;241m=\u001b[39m \u001b[43mextract_english_label\u001b[49m\u001b[43m(\u001b[49m\u001b[43mlabels\u001b[49m\u001b[43m)\u001b[49m\n\u001b[1;32m     31\u001b[0m \u001b[38;5;28mprint\u001b[39m(english_label)  \u001b[38;5;66;03m# Output: User message box\u001b[39;00m\n",
      "Cell \u001b[0;32mIn[1], line 13\u001b[0m, in \u001b[0;36mextract_english_label\u001b[0;34m(labels)\u001b[0m\n\u001b[1;32m      2\u001b[0m \u001b[38;5;250m\u001b[39m\u001b[38;5;124;03m\"\"\"\u001b[39;00m\n\u001b[1;32m      3\u001b[0m \u001b[38;5;124;03mExtracts the English label (language type 0) from a string containing labels.\u001b[39;00m\n\u001b[1;32m      4\u001b[0m \n\u001b[0;32m   (...)\u001b[0m\n\u001b[1;32m      9\u001b[0m \u001b[38;5;124;03m    A string containing the English label or an empty string if not found.\u001b[39;00m\n\u001b[1;32m     10\u001b[0m \u001b[38;5;124;03m\"\"\"\u001b[39;00m\n\u001b[1;32m     12\u001b[0m \u001b[38;5;66;03m# Split the labels by the ending delimiter \";;\"\u001b[39;00m\n\u001b[0;32m---> 13\u001b[0m label_parts \u001b[38;5;241m=\u001b[39m \u001b[43mstrsplit\u001b[49m(labels, \u001b[38;5;124m\"\u001b[39m\u001b[38;5;124m;;\u001b[39m\u001b[38;5;124m\"\u001b[39m)\n\u001b[1;32m     15\u001b[0m \u001b[38;5;28;01mfor\u001b[39;00m label_part \u001b[38;5;129;01min\u001b[39;00m label_parts:\n\u001b[1;32m     16\u001b[0m   \u001b[38;5;66;03m# Split the current label part by the language separator \"::\"\u001b[39;00m\n\u001b[1;32m     17\u001b[0m   parts \u001b[38;5;241m=\u001b[39m strsplit(label_part, \u001b[38;5;124m\"\u001b[39m\u001b[38;5;124m::\u001b[39m\u001b[38;5;124m\"\u001b[39m)\n",
      "\u001b[0;31mNameError\u001b[0m: name 'strsplit' is not defined"
     ]
    }
   ],
   "source": [
    "def extract_english_label(labels):\n",
    "  \"\"\"\n",
    "  Extracts the English label (language type 0) from a string containing labels.\n",
    "\n",
    "  Args:\n",
    "      labels: A string containing labels in the specified format.\n",
    "\n",
    "  Returns:\n",
    "      A string containing the English label or an empty string if not found.\n",
    "  \"\"\"\n",
    "\n",
    "  # Split the labels by the ending delimiter \";;\"\n",
    "  label_parts = strsplit(labels, \";;\")\n",
    "\n",
    "  for label_part in label_parts:\n",
    "    # Split the current label part by the language separator \"::\"\n",
    "    parts = strsplit(label_part, \"::\")\n",
    "\n",
    "    # Check if the first element (language code) is \"0\" (English)\n",
    "    if parts[0] == \"0\":\n",
    "      # Return the label text (second element)\n",
    "      return parts[1]\n",
    "\n",
    "  # English label not found, return an empty string\n",
    "  return \"\"\n",
    "\n",
    "# Example usage\n",
    "labels = \"lb:=\\\"0::User message box;;1::Définition boîte message;;2::\\\";\"\n",
    "english_label = extract_english_label(labels)\n",
    "\n",
    "print(english_label)  # Output: User message box"
   ]
  }
 ],
 "metadata": {
  "kernelspec": {
   "display_name": "Python 3",
   "language": "python",
   "name": "python3"
  },
  "language_info": {
   "codemirror_mode": {
    "name": "ipython",
    "version": 3
   },
   "file_extension": ".py",
   "mimetype": "text/x-python",
   "name": "python",
   "nbconvert_exporter": "python",
   "pygments_lexer": "ipython3",
   "version": "3.10.13"
  }
 },
 "nbformat": 4,
 "nbformat_minor": 2
}
