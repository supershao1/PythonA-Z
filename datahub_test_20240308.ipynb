{
 "cells": [
  {
   "cell_type": "code",
   "execution_count": 16,
   "metadata": {},
   "outputs": [
    {
     "name": "stdout",
     "output_type": "stream",
     "text": [
      "Input labels: lb:=\"0::User message box;;1::Définition boîte message;;2::\"\n",
      "Labels after header removal: 0::User message box;;1::Définition boîte message;;2::\"\n",
      "Label parts: ['0::User message box', '1::Définition boîte message', '2::\"']\n",
      "Current label part: ['0', 'User message box']\n",
      "Extracted English label: User message box\n"
     ]
    }
   ],
   "source": [
    "def extract_english_label(labels):\n",
    "  \"\"\"\n",
    "  Extracts the English label (language type 0) from a string containing labels.\n",
    "\n",
    "  Args:\n",
    "      labels: A string containing labels in the specified format.\n",
    "\n",
    "  Returns:\n",
    "      A string containing the English label or an empty string if not found.\n",
    "  \"\"\"\n",
    "\n",
    "  print(\"Input labels:\", labels)  # Print the original input string\n",
    "\n",
    "  # Check for and remove \"lb:=\\\" header (optional)\n",
    "  if labels.startswith(\"lb:=\\\"\"):\n",
    "    labels = labels[5:]  # Remove \"lb:=\\\" if present\n",
    "    print(\"Labels after header removal:\", labels)  # Print labels after header removal\n",
    "\n",
    "  # Split the labels by the ending delimiter \";;\" or by the end of the string\n",
    "  label_parts = labels.split(\";;\")\n",
    "  print(\"Label parts:\", label_parts)  # Print the split label parts\n",
    "  if not label_parts[-1]:  # Check if the last element is empty (no trailing \";;\")\n",
    "    label_parts.append(labels)  # Append the entire string if no trailing \";;\"\n",
    "    print(\"Label parts after handling empty last element:\", label_parts)  # Print after handling empty last element\n",
    "\n",
    "  for label_part in label_parts:\n",
    "    # Split the current label part by the language separator \"::\"\n",
    "    parts = label_part.split(\"::\")\n",
    "    print(\"Current label part:\", parts)  # Print the current label part elements\n",
    "\n",
    "    # Check if the first element (language code) is \"0\" (English)\n",
    "    if parts[0] == \"0\":\n",
    "      # Return the label text (second element)\n",
    "      return parts[1]\n",
    "\n",
    "  # English label not found, return an empty string\n",
    "  return \"\"\n",
    "\n",
    "# Example usage\n",
    "labels = \"lb:=\\\"0::User message box;;1::Définition boîte message;;2::\\\"\"  # No trailing \";;\"\n",
    "english_label = extract_english_label(labels)\n",
    "\n",
    "print(\"Extracted English label:\", english_label)  # Print the extracted label\n"
   ]
  },
  {
   "cell_type": "code",
   "execution_count": 31,
   "metadata": {},
   "outputs": [
    {
     "name": "stdout",
     "output_type": "stream",
     "text": [
      "Input labels: lb:=\"0::User message box;;1::Définition boîte message;;2::\"\n",
      "Labels after header removal: 0::User message box;;1::Définition boîte message;;2::\"\n",
      "Label parts: ['0::User message box', '1::Définition boîte message', '2::\"']\n",
      "Current label part: ['0', 'User message box']\n",
      "Extracted English label: User message box\n"
     ]
    }
   ],
   "source": [
    "def extract_english_label(labels):\n",
    "  \"\"\"\n",
    "  Extracts the English label (language type 0) from a string containing labels.\n",
    "\n",
    "  Args:\n",
    "      labels: A string containing labels in the specified format.\n",
    "\n",
    "  Returns:\n",
    "      A string containing the English label or an empty string if not found.\n",
    "  \"\"\"\n",
    "\n",
    "  print(\"Input labels:\", labels)  # Print the original input string\n",
    "\n",
    "  # Check for and remove \"lb:=\\\" header (optional)\n",
    "  if labels.startswith(\"lb\") :  # Handle header with 'lb'\n",
    "    index_after_header = labels.find('::')  # Find the index after \"lb*:=\\\" or \"lb:=\\\"\"\n",
    "    if index_after_header != -1:\n",
    "      labels = labels[index_after_header -1:]  # Remove header before \"x::\"\n",
    "    else:\n",
    "      # Handle case where \"::\" is missing after the header (optional)\n",
    "      print(\"Warning: Missing separator after header in labels\")\n",
    "      # You can choose to keep the string as is or implement alternative handling.\n",
    "  print(\"Labels after header removal:\", labels)  # Print labels after header removal\n",
    "\n",
    "  # Split the labels by the ending delimiter \";;\" or by the end of the string\n",
    "  label_parts = labels.split(\";;\")\n",
    "  print(\"Label parts:\", label_parts)  # Print the split label parts\n",
    "  if not label_parts[-1]:  # Check if the last element is empty (no trailing \";;\")\n",
    "    label_parts.append(labels)  # Append the entire string if no trailing \";;\"\n",
    "    print(\"Label parts after handling empty last element:\", label_parts)  # Print after handling empty last element\n",
    "\n",
    "  for label_part in label_parts:\n",
    "    # Split the current label part by the language separator \"::\"\n",
    "    parts = label_part.split(\"::\")\n",
    "    print(\"Current label part:\", parts)  # Print the current label part elements\n",
    "\n",
    "    # Check if the first element (language code) is \"0\" (English)\n",
    "    if parts[0] == \"0\":\n",
    "      # Return the label text (second element)\n",
    "      return parts[1]\n",
    "\n",
    "  # English label not found, return an empty string\n",
    "  return \"\"\n",
    "\n",
    "# Example usage\n",
    "labels = \"lb:=\\\"0::User message box;;1::Définition boîte message;;2::\\\"\"\n",
    "english_label = extract_english_label(labels)\n",
    "\n",
    "print(\"Extracted English label:\", english_label)  # Output: User message box\n"
   ]
  },
  {
   "cell_type": "code",
   "execution_count": 32,
   "metadata": {},
   "outputs": [
    {
     "name": "stdout",
     "output_type": "stream",
     "text": [
      "Input labels: lb:=\"0::User message box;;1::Définition boîte message;;2::\n",
      "Labels after header removal: 0::User message box;;1::Définition boîte message;;2::\n",
      "Label parts: ['0::User message box', '1::Définition boîte message', '2::']\n",
      "Current label part: ['0', 'User message box']\n",
      "Label string: lb:=\"0::User message box;;1::Définition boîte message;;2::\n",
      "Extracted English label: User message box\n",
      "\n",
      "\n",
      "Input labels: lb1:=\"2::;;1::Gestionnaire mots de passe;;0::Passwords management\n",
      "Labels after header removal: 2::;;1::Gestionnaire mots de passe;;0::Passwords management\n",
      "Label parts: ['2::', '1::Gestionnaire mots de passe', '0::Passwords management']\n",
      "Current label part: ['2', '']\n",
      "Current label part: ['1', 'Gestionnaire mots de passe']\n",
      "Current label part: ['0', 'Passwords management']\n",
      "Label string: lb1:=\"2::;;1::Gestionnaire mots de passe;;0::Passwords management\n",
      "Extracted English label: Passwords management\n",
      "\n",
      "\n",
      "Input labels: lb2:=\"2::;;1::;;3::;;0::Package installation audit Audit trail query\n",
      "Labels after header removal: 2::;;1::;;3::;;0::Package installation audit Audit trail query\n",
      "Label parts: ['2::', '1::', '3::', '0::Package installation audit Audit trail query']\n",
      "Current label part: ['2', '']\n",
      "Current label part: ['1', '']\n",
      "Current label part: ['3', '']\n",
      "Current label part: ['0', 'Package installation audit Audit trail query']\n",
      "Label string: lb2:=\"2::;;1::;;3::;;0::Package installation audit Audit trail query\n",
      "Extracted English label: Package installation audit Audit trail query\n",
      "\n",
      "\n"
     ]
    }
   ],
   "source": [
    "labels_list = [\n",
    "    \"lb:=\\\"0::User message box;;1::Définition boîte message;;2::\",\n",
    "    \"lb1:=\\\"2::;;1::Gestionnaire mots de passe;;0::Passwords management\",\n",
    "    \"lb2:=\\\"2::;;1::;;3::;;0::Package installation audit Audit trail query\"\n",
    "]\n",
    "\n",
    "for labels in labels_list:\n",
    "    english_label = extract_english_label(labels)\n",
    "    if english_label:\n",
    "        print(f\"Label string: {labels}\")\n",
    "        print(f\"Extracted English label: {english_label}\")\n",
    "        print('\\n')\n",
    "    else:\n",
    "        print(f\"No English label found for: {labels}\")\n",
    "        print('\\n')\n"
   ]
  }
 ],
 "metadata": {
  "kernelspec": {
   "display_name": "Python 3",
   "language": "python",
   "name": "python3"
  },
  "language_info": {
   "codemirror_mode": {
    "name": "ipython",
    "version": 3
   },
   "file_extension": ".py",
   "mimetype": "text/x-python",
   "name": "python",
   "nbconvert_exporter": "python",
   "pygments_lexer": "ipython3",
   "version": "3.10.13"
  }
 },
 "nbformat": 4,
 "nbformat_minor": 2
}
