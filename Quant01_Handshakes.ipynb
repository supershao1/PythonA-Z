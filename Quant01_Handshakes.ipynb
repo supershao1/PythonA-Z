{
  "nbformat": 4,
  "nbformat_minor": 0,
  "metadata": {
    "colab": {
      "provenance": [],
      "authorship_tag": "ABX9TyO0iIh3WROLsVXf47V3a+as",
      "include_colab_link": true
    },
    "kernelspec": {
      "name": "python3",
      "display_name": "Python 3"
    },
    "language_info": {
      "name": "python"
    }
  },
  "cells": [
    {
      "cell_type": "markdown",
      "metadata": {
        "id": "view-in-github",
        "colab_type": "text"
      },
      "source": [
        "<a href=\"https://colab.research.google.com/github/supershao1/PythonA-Z/blob/main/Quant01_Handshakes.ipynb\" target=\"_parent\"><img src=\"https://colab.research.google.com/assets/colab-badge.svg\" alt=\"Open In Colab\"/></a>"
      ]
    },
    {
      "cell_type": "markdown",
      "source": [
        "#Quant Exercise 01: Handshakes Question"
      ],
      "metadata": {
        "id": "xi_STm-QgqQi"
      }
    },
    {
      "cell_type": "markdown",
      "source": [
        "A couple invited 4 other couples to join a party (5 couples in total), everyone shook hands with people they didn't know. Then, the host asked everyone how many times they've shook hands and they gave all different answers. \n",
        "\n",
        "Assuming no one shook hands with their own partner, how many times did the hostess shake hands in the party?"
      ],
      "metadata": {
        "id": "8OYiag3VQx_m"
      }
    },
    {
      "cell_type": "code",
      "source": [
        "import numpy as np\n",
        "from numpy.random import randn"
      ],
      "metadata": {
        "id": "-lgbxNl0gvjd"
      },
      "execution_count": null,
      "outputs": []
    },
    {
      "cell_type": "code",
      "source": [
        "# Create a list of numbers of handshakes that each person could have made\n",
        "handshakes = list(range(9))\n",
        "print(handshakes)\n",
        "\n",
        "#Initial the lists and dictionary required\n",
        "husband = []\n",
        "wife = []\n",
        "hostress = []\n",
        "#couple = []\n",
        "groups = {}\n",
        "\n",
        "\n",
        "for i in range(4):\n",
        "  husband.append(handshakes[i])\n",
        "  #handshakes.remove(husband[i])\n",
        "  wife.append(8 - husband[i])\n",
        "\n",
        "  \n",
        "  hus_index = 'husband '+str(i+1)\n",
        "  wif_index = 'wife '+str(i+1)\n",
        "  groups[hus_index] = husband[i]\n",
        "  groups[wif_index] = wife[i]\n",
        "\n",
        "\n",
        "\n",
        "print(groups)\n",
        "\n",
        "\n",
        "guest = husband + wife\n",
        "hostress = [i for i in handshakes if i not in guest]\n",
        "\n",
        "print('The hostress shook hands with', *hostress, 'people')\n",
        "#print(handshakes)\n",
        "\n",
        "\n",
        "\n"
      ],
      "metadata": {
        "id": "zFzO2W0pOLlk",
        "colab": {
          "base_uri": "https://localhost:8080/"
        },
        "outputId": "6034457d-5c7b-45e4-d810-12d60891be93"
      },
      "execution_count": null,
      "outputs": [
        {
          "output_type": "stream",
          "name": "stdout",
          "text": [
            "[0, 1, 2, 3, 4, 5, 6, 7, 8]\n",
            "{'husband 1': 0, 'wife 1': 8, 'husband 2': 1, 'wife 2': 7, 'husband 3': 2, 'wife 3': 6, 'husband 4': 3, 'wife 4': 5}\n",
            "The hostress shook hands with 4 people\n"
          ]
        }
      ]
    },
    {
      "cell_type": "code",
      "source": [
        "import random\n",
        "\n",
        "my_list = list(range(9))\n",
        "result_list = []\n",
        "\n",
        "while my_list:\n",
        "    x = random.choice(my_list)\n",
        "    my_list.remove(x)\n",
        "    y = 8 - x\n",
        "    if y in my_list:\n",
        "        my_list.remove(y)\n",
        "    result_list.append((x, y))\n",
        "\n",
        "print(result_list)"
      ],
      "metadata": {
        "colab": {
          "base_uri": "https://localhost:8080/"
        },
        "id": "FtTsBRSPVZ11",
        "outputId": "ab1e0c34-5945-4e4a-9625-40d05bbf6a2c"
      },
      "execution_count": null,
      "outputs": [
        {
          "output_type": "stream",
          "name": "stdout",
          "text": [
            "[(1, 7), (0, 8), (2, 6), (3, 5), (4, 4)]\n"
          ]
        }
      ]
    },
    {
      "cell_type": "code",
      "source": [
        "import random\n",
        "\n",
        "#Create a list of possible numbers of the handshakes\n",
        "handshakes = list(range(9))\n",
        "print('Possible numbers of handshakes are', handshakes)\n",
        "#Create the list of couples in the party\n",
        "couples = []\n",
        "\n",
        "while handshakes:\n",
        "  #To select an item from the list randomly as the number of handshakes made by the husband\n",
        "  husband = random.choice(handshakes)\n",
        "  #To remove the selected number of handshakes in the list\n",
        "  handshakes.remove(husband)\n",
        "  #The key concept is to ensure the couple should have total number of handshakes of 8\n",
        "  wife = 8 - husband\n",
        "  #To check whether the number of handshakes of the wife exist in the remaining list of the number of handshakes\n",
        "  #i.e. to make sure the guest couple won't have the same number of handshakes\n",
        "  if wife in handshakes:\n",
        "    handshakes.remove(wife)\n",
        "    #Create the guest couple list with their number of handshakes\n",
        "    couples.append((husband,wife))\n",
        "  #Once we find the number of handshakes which may cause the same number of the handshakes between the guest couple\n",
        "  #It should be assigned to the hostress instead\n",
        "  else: hostress = wife\n",
        "\n",
        "\n",
        "print('The guest couples may have number of handshakes of', couples)\n",
        "print('The hostress shook hands with', hostress, 'people')"
      ],
      "metadata": {
        "colab": {
          "base_uri": "https://localhost:8080/"
        },
        "id": "bMqKLNZqZKjo",
        "outputId": "dc9db19a-5825-4023-f390-0109d9ded964"
      },
      "execution_count": 1,
      "outputs": [
        {
          "output_type": "stream",
          "name": "stdout",
          "text": [
            "Possible numbers of handshakes are [0, 1, 2, 3, 4, 5, 6, 7, 8]\n",
            "The guest couples may have number of handshakes of [(6, 2), (0, 8), (1, 7), (3, 5)]\n",
            "The hostress shook hands with 4 people\n"
          ]
        }
      ]
    }
  ]
}