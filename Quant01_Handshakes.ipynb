{
  "nbformat": 4,
  "nbformat_minor": 0,
  "metadata": {
    "colab": {
      "provenance": [],
      "authorship_tag": "ABX9TyOlFsCWVez1Yp3bR11OWUVg",
      "include_colab_link": true
    },
    "kernelspec": {
      "name": "python3",
      "display_name": "Python 3"
    },
    "language_info": {
      "name": "python"
    }
  },
  "cells": [
    {
      "cell_type": "markdown",
      "metadata": {
        "id": "view-in-github",
        "colab_type": "text"
      },
      "source": [
        "<a href=\"https://colab.research.google.com/github/supershao1/PythonA-Z/blob/main/Quant01_Handshakes.ipynb\" target=\"_parent\"><img src=\"https://colab.research.google.com/assets/colab-badge.svg\" alt=\"Open In Colab\"/></a>"
      ]
    },
    {
      "cell_type": "markdown",
      "source": [
        "#Quant Exercise 01: Handshakes Question"
      ],
      "metadata": {
        "id": "xi_STm-QgqQi"
      }
    },
    {
      "cell_type": "markdown",
      "source": [
        "A couple invited 4 other couples to join a party (5 couples in total), everyone shook hands with people they didn't know. Then, the host asked everyone how many times they've shook hands and they gave all different answers. \n",
        "\n",
        "Assuming no one shook hands with their own partner, how many times did the hostess shake hands in the party?"
      ],
      "metadata": {
        "id": "8OYiag3VQx_m"
      }
    },
    {
      "cell_type": "code",
      "source": [
        "import numpy as np\n",
        "from numpy.random import randn"
      ],
      "metadata": {
        "id": "-lgbxNl0gvjd"
      },
      "execution_count": 1,
      "outputs": []
    },
    {
      "cell_type": "code",
      "source": [
        "# Create a list of numbers of handshakes that each person could have made\n",
        "#handshakes = [i for i in range(9)]\n",
        "handshakes = list(range(9))\n",
        "print(handshakes)\n",
        "#guestlist = ['H1', 'W1', 'H2', 'W2', 'H3', 'W3', 'H4', 'W4']\n",
        "#print(guestlist)\n",
        "husband = []\n",
        "wife = []\n",
        "hostress = []\n",
        "#couple = []\n",
        "groups = {}\n",
        "\n",
        "\n",
        "for i in range(4):\n",
        "  husband.append(handshakes[i])\n",
        "  #handshakes.remove(husband[i])\n",
        "  wife.append(8 - husband[i])\n",
        "#  if (wife[i] in remain):\n",
        "#    remain.remove(wife[i])\n",
        "#  else: \n",
        "#    husband.remove[i]\n",
        "#    husband.append(handshakes[i+1])\n",
        "\n",
        "  #couple = [husband[i], wife[i]]\n",
        "  #print(husband[i])\n",
        "  #print(wife[i])\n",
        "  #print(handshakes)\n",
        "  #handshakes.remove(wife[i])\n",
        "  #print(handshakes)\n",
        "  \n",
        "  hus_index = 'husband '+str(i+1)\n",
        "  wif_index = 'wife '+str(i+1)\n",
        "  groups[hus_index] = husband[i]\n",
        "  groups[wif_index] = wife[i]\n",
        "  #del handshakes[i]\n",
        "\n",
        "\n",
        "print(groups)\n",
        "#print(husband)\n",
        "#print(wife)\n",
        "\n",
        "guest = husband + wife\n",
        "hostress = [i for i in handshakes if i not in guest]\n",
        "\n",
        "print('The hostress shook hands with', *hostress, 'people')\n",
        "#print(handshakes)\n",
        "\n",
        "\n",
        "\n"
      ],
      "metadata": {
        "id": "zFzO2W0pOLlk",
        "colab": {
          "base_uri": "https://localhost:8080/"
        },
        "outputId": "6034457d-5c7b-45e4-d810-12d60891be93"
      },
      "execution_count": null,
      "outputs": [
        {
          "output_type": "stream",
          "name": "stdout",
          "text": [
            "[0, 1, 2, 3, 4, 5, 6, 7, 8]\n",
            "{'husband 1': 0, 'wife 1': 8, 'husband 2': 1, 'wife 2': 7, 'husband 3': 2, 'wife 3': 6, 'husband 4': 3, 'wife 4': 5}\n",
            "The hostress shook hands with 4 people\n"
          ]
        }
      ]
    },
    {
      "cell_type": "code",
      "source": [
        "import random\n",
        "\n",
        "my_list = list(range(9))\n",
        "result_list = []\n",
        "\n",
        "while my_list:\n",
        "    x = random.choice(my_list)\n",
        "    my_list.remove(x)\n",
        "    y = 8 - x\n",
        "    if y in my_list:\n",
        "        my_list.remove(y)\n",
        "    result_list.append((x, y))\n",
        "\n",
        "print(result_list)"
      ],
      "metadata": {
        "colab": {
          "base_uri": "https://localhost:8080/"
        },
        "id": "FtTsBRSPVZ11",
        "outputId": "ab1e0c34-5945-4e4a-9625-40d05bbf6a2c"
      },
      "execution_count": null,
      "outputs": [
        {
          "output_type": "stream",
          "name": "stdout",
          "text": [
            "[(1, 7), (0, 8), (2, 6), (3, 5), (4, 4)]\n"
          ]
        }
      ]
    },
    {
      "cell_type": "code",
      "source": [
        "import random\n",
        "\n",
        "handshakes = list(range(9))\n",
        "print('Possible numbers of handshakes are', handshakes)\n",
        "couples = []\n",
        "\n",
        "while handshakes:\n",
        "  husband = random.choice(handshakes)\n",
        "  handshakes.remove(husband)\n",
        "  wife = 8 - husband\n",
        "  if wife in handshakes:\n",
        "    handshakes.remove(wife)\n",
        "    couples.append((husband,wife))\n",
        "  else: hostress = wife\n",
        "\n",
        "\n",
        "print('The guest couples may have number of handshakes of', couples)\n",
        "print('The hostress shook hands with', hostress, 'people')"
      ],
      "metadata": {
        "colab": {
          "base_uri": "https://localhost:8080/"
        },
        "id": "bMqKLNZqZKjo",
        "outputId": "9fdbf957-0e6d-48fe-92bb-f624600c6691"
      },
      "execution_count": 4,
      "outputs": [
        {
          "output_type": "stream",
          "name": "stdout",
          "text": [
            "Possible numbers of handshakes are [0, 1, 2, 3, 4, 5, 6, 7, 8]\n",
            "The guest couples may have number of handshakes of [(2, 6), (5, 3), (1, 7), (0, 8)]\n",
            "The hostress shook hands with 4 people\n"
          ]
        }
      ]
    }
  ]
}