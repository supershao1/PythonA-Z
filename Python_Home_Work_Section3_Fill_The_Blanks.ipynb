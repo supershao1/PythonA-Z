{
  "cells": [
    {
      "cell_type": "markdown",
      "metadata": {
        "id": "view-in-github",
        "colab_type": "text"
      },
      "source": [
        "<a href=\"https://colab.research.google.com/github/supershao1/PythonA-Z/blob/main/Python_Home_Work_Section3_Fill_The_Blanks.ipynb\" target=\"_parent\"><img src=\"https://colab.research.google.com/assets/colab-badge.svg\" alt=\"Open In Colab\"/></a>"
      ]
    },
    {
      "cell_type": "code",
      "execution_count": 2,
      "metadata": {
        "collapsed": true,
        "id": "hNq5lEE9Wurn"
      },
      "outputs": [],
      "source": [
        "#Data \n",
        "revenue = [14574.49, 7606.46, 8611.41, 9175.41, 8058.65, 8105.44, 11496.28, 9766.09, 10305.32, 14379.96, 10713.97, 15433.50]\n",
        "expenses = [12051.82, 5695.07, 12319.20, 12089.72, 8658.57, 840.20, 3285.73, 5821.12, 6976.93, 16618.61, 10054.37, 3803.96]"
      ]
    },
    {
      "cell_type": "code",
      "execution_count": 3,
      "metadata": {
        "collapsed": true,
        "id": "MfV_6C8wWuro",
        "outputId": "cc16a710-1b10-4534-c42c-6410c5c73a4f",
        "colab": {
          "base_uri": "https://localhost:8080/"
        }
      },
      "outputs": [
        {
          "output_type": "execute_result",
          "data": {
            "text/plain": [
              "[2522.67,\n",
              " 1911.3900000000003,\n",
              " -3707.790000000001,\n",
              " -2914.3099999999995,\n",
              " -599.9200000000001,\n",
              " 7265.24,\n",
              " 8210.550000000001,\n",
              " 3944.9700000000003,\n",
              " 3328.3899999999994,\n",
              " -2238.6500000000015,\n",
              " 659.5999999999985,\n",
              " 11629.54]"
            ]
          },
          "metadata": {},
          "execution_count": 3
        }
      ],
      "source": [
        "#Solution\n",
        "#Calculate Profit As The Differences Between Revenue And Expenses\n",
        "profit = []\n",
        "\n",
        "for i in range (0, len(revenue)):\n",
        "    profit.append(revenue[i] - expenses[i])\n",
        "profit"
      ]
    },
    {
      "cell_type": "code",
      "execution_count": 4,
      "metadata": {
        "collapsed": true,
        "id": "vH_0zRgPWurp",
        "outputId": "55b01f4c-db5f-4e5f-f88f-0309d15e5a9e",
        "colab": {
          "base_uri": "https://localhost:8080/"
        }
      },
      "outputs": [
        {
          "output_type": "execute_result",
          "data": {
            "text/plain": [
              "[756.8,\n",
              " 573.42,\n",
              " -1112.34,\n",
              " -874.29,\n",
              " -179.98,\n",
              " 2179.57,\n",
              " 2463.17,\n",
              " 1183.49,\n",
              " 998.52,\n",
              " -671.6,\n",
              " 197.88,\n",
              " 3488.86]"
            ]
          },
          "metadata": {},
          "execution_count": 4
        }
      ],
      "source": [
        "#Calculate Tax As 30% Of Profit And Round To 2 Decimal Points\n",
        "tax = [round(i * 0.3, 2) for i in profit]\n",
        "tax\n",
        "\n"
      ]
    },
    {
      "cell_type": "code",
      "execution_count": 5,
      "metadata": {
        "collapsed": true,
        "id": "1w6WZlNkWurp",
        "outputId": "c5101f52-324d-41d5-d546-fc85634fe422",
        "colab": {
          "base_uri": "https://localhost:8080/"
        }
      },
      "outputs": [
        {
          "output_type": "execute_result",
          "data": {
            "text/plain": [
              "[1765.8700000000001,\n",
              " 1337.9700000000003,\n",
              " -2595.4500000000007,\n",
              " -2040.0199999999995,\n",
              " -419.94000000000005,\n",
              " 5085.67,\n",
              " 5747.380000000001,\n",
              " 2761.4800000000005,\n",
              " 2329.8699999999994,\n",
              " -1567.0500000000015,\n",
              " 461.71999999999855,\n",
              " 8140.68]"
            ]
          },
          "metadata": {},
          "execution_count": 5
        }
      ],
      "source": [
        "#Calculate Profit Remaining After Tax Is Deducted\n",
        "profit_after_tax = []\n",
        "for i in range (0, len(profit)):\n",
        "    profit_after_tax.append(profit[i] - tax[i])\n",
        "profit_after_tax"
      ]
    },
    {
      "cell_type": "code",
      "execution_count": 8,
      "metadata": {
        "collapsed": true,
        "id": "PtWDi38kWurq",
        "outputId": "b0e29636-cfc4-4feb-d404-14c2e740c2de",
        "colab": {
          "base_uri": "https://localhost:8080/"
        }
      },
      "outputs": [
        {
          "output_type": "execute_result",
          "data": {
            "text/plain": [
              "[12.12,\n",
              " 17.59,\n",
              " -30.14,\n",
              " -22.23,\n",
              " -5.21,\n",
              " 62.74,\n",
              " 49.99,\n",
              " 28.28,\n",
              " 22.61,\n",
              " -10.9,\n",
              " 4.31,\n",
              " 52.75]"
            ]
          },
          "metadata": {},
          "execution_count": 8
        }
      ],
      "source": [
        "#Calculate The Profit Margin As Profit After Tax Over Revenue\n",
        "#Round To 2 Decimal Points, Then Multiply By 100 To Get %\n",
        "profit_margin = []\n",
        "for i in range (0, len(profit_after_tax)):\n",
        "    profit_margin.append(profit_after_tax[i] / revenue[i])\n",
        "profit_margin\n",
        "\n",
        "profit_margin = [round((i*100),2) for i in profit_margin]\n",
        "\n",
        "profit_margin"
      ]
    },
    {
      "cell_type": "code",
      "execution_count": 9,
      "metadata": {
        "collapsed": true,
        "id": "WEiT8ipfWurq",
        "outputId": "0fa18637-9e34-4010-d3b2-5790f448bd4e",
        "colab": {
          "base_uri": "https://localhost:8080/"
        }
      },
      "outputs": [
        {
          "output_type": "execute_result",
          "data": {
            "text/plain": [
              "1750.6816666666666"
            ]
          },
          "metadata": {},
          "execution_count": 9
        }
      ],
      "source": [
        "#Calculate The Mean Profit After Tax For The 12 Months\n",
        "mean_pat = sum(profit_after_tax) / len(profit_after_tax)\n",
        "mean_pat"
      ]
    },
    {
      "cell_type": "code",
      "execution_count": 10,
      "metadata": {
        "collapsed": true,
        "id": "p5xOa8itWurq",
        "outputId": "9585fe3c-b98f-40bb-9082-64e358e5b847",
        "colab": {
          "base_uri": "https://localhost:8080/"
        }
      },
      "outputs": [
        {
          "output_type": "execute_result",
          "data": {
            "text/plain": [
              "[True, False, False, False, False, True, True, True, True, False, False, True]"
            ]
          },
          "metadata": {},
          "execution_count": 10
        }
      ],
      "source": [
        "#Find The Months With Above-Mean Profit After Tax\n",
        "good_months = []\n",
        "for i in range (0, len(profit_after_tax)):\n",
        "    good_months.append(profit_after_tax[i] > mean_pat)\n",
        "good_months"
      ]
    },
    {
      "cell_type": "code",
      "execution_count": 11,
      "metadata": {
        "collapsed": true,
        "id": "SK7HR1nrWurr",
        "outputId": "4c814ecb-a671-4f90-9088-a7a4e7e60884",
        "colab": {
          "base_uri": "https://localhost:8080/"
        }
      },
      "outputs": [
        {
          "output_type": "execute_result",
          "data": {
            "text/plain": [
              "[False, True, True, True, True, False, False, False, False, True, True, False]"
            ]
          },
          "metadata": {},
          "execution_count": 11
        }
      ],
      "source": [
        "#Bad Months Are The Opposite Of Good Months!\n",
        "bad_months = []\n",
        "for i in range (0, len(profit_after_tax)):\n",
        "    bad_months.append(not (good_months[i]))\n",
        "bad_months"
      ]
    },
    {
      "cell_type": "code",
      "execution_count": 12,
      "metadata": {
        "collapsed": true,
        "id": "IuLFGDItWurr",
        "outputId": "04120c20-e352-4c51-bb16-4836a182cea9",
        "colab": {
          "base_uri": "https://localhost:8080/"
        }
      },
      "outputs": [
        {
          "output_type": "execute_result",
          "data": {
            "text/plain": [
              "[False,\n",
              " False,\n",
              " False,\n",
              " False,\n",
              " False,\n",
              " False,\n",
              " False,\n",
              " False,\n",
              " False,\n",
              " False,\n",
              " False,\n",
              " True]"
            ]
          },
          "metadata": {},
          "execution_count": 12
        }
      ],
      "source": [
        "#The Best Month Is Where Profit After Tax Was Equal To The Maximum\n",
        "best_month = []\n",
        "for i in range (0, len(profit_after_tax)):\n",
        "    best_month.append(profit_after_tax[i] == max(profit_after_tax))\n",
        "best_month"
      ]
    },
    {
      "cell_type": "code",
      "execution_count": 13,
      "metadata": {
        "collapsed": true,
        "id": "20rahIn-Wurr",
        "outputId": "295ef58c-d0b3-48e3-9771-f05af0d224ca",
        "colab": {
          "base_uri": "https://localhost:8080/"
        }
      },
      "outputs": [
        {
          "output_type": "execute_result",
          "data": {
            "text/plain": [
              "[False,\n",
              " False,\n",
              " True,\n",
              " False,\n",
              " False,\n",
              " False,\n",
              " False,\n",
              " False,\n",
              " False,\n",
              " False,\n",
              " False,\n",
              " False]"
            ]
          },
          "metadata": {},
          "execution_count": 13
        }
      ],
      "source": [
        "#The Worst Month Is Where Profit After Tax Was Equal To The Minimum\n",
        "worst_month = []\n",
        "for i in range (0, len(profit_after_tax)):\n",
        "    worst_month.append(profit_after_tax[i] == min(profit_after_tax))\n",
        "worst_month"
      ]
    },
    {
      "cell_type": "code",
      "execution_count": 14,
      "metadata": {
        "collapsed": true,
        "id": "nw_-oV2kWurr"
      },
      "outputs": [],
      "source": [
        "#Convert All Calculations To Units Of One Thousand Dollars\n",
        "revenue_1000 = [round(i/1000, 0) for i in revenue]\n",
        "expenses_1000 = [round(i/1000, 0) for i in expenses]\n",
        "profit_1000 = [round(i/1000, 0) for i in profit]\n",
        "profit_after_tax_1000 = [round(i/1000, 0) for i in profit_after_tax]\n",
        "\n",
        "revenue_1000 = [int(i) for i in revenue_1000]\n",
        "expenses_1000 = [int(i) for i in expenses_1000]\n",
        "profit_1000 = [int(i) for i in profit_1000]\n",
        "profit_after_tax_1000 = [int(i) for i in profit_after_tax_1000]"
      ]
    },
    {
      "cell_type": "code",
      "execution_count": 21,
      "metadata": {
        "collapsed": true,
        "id": "E9POf0G2Wurs",
        "outputId": "b0aab47b-5772-4ae0-d2a2-497a45f5b3ad",
        "colab": {
          "base_uri": "https://localhost:8080/"
        }
      },
      "outputs": [
        {
          "output_type": "stream",
          "name": "stdout",
          "text": [
            "Revenue :\n",
            "[15, 8, 9, 9, 8, 8, 11, 10, 10, 14, 11, 15]\n",
            "Expenses :\n",
            "[12, 6, 12, 12, 9, 1, 3, 6, 7, 17, 10, 4]\n",
            "Profit :\n",
            "[3, 2, -4, -3, -1, 7, 8, 4, 3, -2, 1, 12]\n",
            "Profit after tax :\n",
            "[2, 1, -3, -2, 0, 5, 6, 3, 2, -2, 0, 8]\n",
            "Profit margin :\n",
            "[12.12, 17.59, -30.14, -22.23, -5.21, 62.74, 49.99, 28.28, 22.61, -10.9, 4.31, 52.75]\n",
            "Good months :\n",
            "[True, False, False, False, False, True, True, True, True, False, False, True]\n",
            "Bad months :\n",
            "[False, True, True, True, True, False, False, False, False, True, True, False]\n",
            "Best month :\n",
            "[False, False, False, False, False, False, False, False, False, False, False, True]\n",
            "Worst month :\n",
            "[False, False, True, False, False, False, False, False, False, False, False, False]\n"
          ]
        }
      ],
      "source": [
        "#Print Results\n",
        "print (\"Revenue :\") \n",
        "print (revenue_1000)\n",
        "print (\"Expenses :\") \n",
        "print (expenses_1000)\n",
        "print (\"Profit :\")\n",
        "print(profit_1000)\n",
        "print (\"Profit after tax :\")\n",
        "print (profit_after_tax_1000)\n",
        "print (\"Profit margin :\")\n",
        "print (profit_margin)\n",
        "print (\"Good months :\")\n",
        "print (good_months)\n",
        "print (\"Bad months :\")\n",
        "print (bad_months)\n",
        "print (\"Best month :\")\n",
        "print (best_month)\n",
        "print (\"Worst month :\")\n",
        "print (worst_month)"
      ]
    },
    {
      "cell_type": "code",
      "source": [
        "months = ['Jan', 'Feb', 'Mar', 'Apr', 'May', 'Jun', 'Jul', 'Aug', 'Sep', 'Oct', 'Nov', 'Dec']\n",
        "good_months_display = []\n",
        "bad_months_display = []\n",
        "best_month_display = []\n",
        "worst_month_display = []\n",
        "for i in range(0,len(months)):\n",
        "  if good_months[i]:\n",
        "    good_months_display.append(months[i])\n",
        "  elif bad_months[i]:\n",
        "    bad_months_display.append(months[i])\n",
        "  #else: i=i+1  \n",
        "\n",
        "  if best_month[i]:\n",
        "    best_month_display.append(months[i])\n",
        "  \n",
        "  if worst_month[i]:\n",
        "    worst_month_display.append(months[i])\n",
        "\n",
        "\n",
        "\n",
        "print('Good months are:', *good_months_display)\n",
        "print('Bad months are:', *bad_months_display)\n",
        "print('Best month is:', *best_month_display)\n",
        "print('Worst month is:', *worst_month_display)"
      ],
      "metadata": {
        "id": "K6J11G-0kQe6",
        "outputId": "6c37229c-9ae9-4cb4-9dc6-4e26ca8ac22e",
        "colab": {
          "base_uri": "https://localhost:8080/"
        }
      },
      "execution_count": 28,
      "outputs": [
        {
          "output_type": "stream",
          "name": "stdout",
          "text": [
            "Good months are: Jan Jun Jul Aug Sep Dec\n",
            "Bad months are: Feb Mar Apr May Oct Nov\n",
            "Best month is: Dec\n",
            "Worst month is: Mar\n"
          ]
        }
      ]
    }
  ],
  "metadata": {
    "anaconda-cloud": {},
    "kernelspec": {
      "display_name": "Python 3",
      "name": "python3"
    },
    "language_info": {
      "name": "python"
    },
    "colab": {
      "provenance": [],
      "include_colab_link": true
    },
    "gpuClass": "standard"
  },
  "nbformat": 4,
  "nbformat_minor": 0
}